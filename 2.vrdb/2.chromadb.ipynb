{
 "cells": [
  {
   "cell_type": "markdown",
   "metadata": {},
   "source": [
    "# 演示使用向量数据库 chromadb 来检索。"
   ]
  },
  {
   "cell_type": "markdown",
   "metadata": {},
   "source": [
    "https://docs.trychroma.com/getting-started"
   ]
  },
  {
   "cell_type": "code",
   "execution_count": 1,
   "metadata": {},
   "outputs": [],
   "source": [
    "import os\n",
    "import socket\n",
    "import socks\n",
    "\n",
    "socks.set_default_proxy(socks.SOCKS5, \"127.0.0.1\", 10808)\n",
    "socket.socket = socks.socksocket"
   ]
  },
  {
   "cell_type": "code",
   "execution_count": 2,
   "metadata": {},
   "outputs": [],
   "source": [
    "#!pip install chromadb"
   ]
  },
  {
   "cell_type": "code",
   "execution_count": 1,
   "metadata": {},
   "outputs": [],
   "source": [
    "import chromadb\n",
    "\n",
    "chroma_client = chromadb.Client()\n",
    "\n",
    "collection = chroma_client.create_collection(name=\"my_collection\")\n",
    "\n",
    "collection.add(\n",
    "    documents=[\"白日依山尽，黄河入海流\", \"白云依山起，青天与白云齐\",\"无边落木萧萧下，不尽长江滚滚来\"],\n",
    "    metadatas=[{\"source\": \"my_source\"}, {\"source\": \"my_source\"}, {\"source\": \"my_source\"}],\n",
    "    ids=[\"id1\", \"id2\", \"id3\"]\n",
    ")\n",
    "\n",
    "#If you have already generated embeddings yourself, you can load them directly in:\n",
    "# collection.add(\n",
    "#     embeddings=[[1.2, 2.3, 4.5], [6.7, 8.2, 9.2]],\n",
    "#     documents=[\"This is a document\", \"This is another document\"],\n",
    "#     metadatas=[{\"source\": \"my_source\"}, {\"source\": \"my_source\"}],\n",
    "#     ids=[\"id1\", \"id2\"]\n",
    "# )"
   ]
  },
  {
   "cell_type": "code",
   "execution_count": 6,
   "metadata": {},
   "outputs": [
    {
     "name": "stdout",
     "output_type": "stream",
     "text": [
      "{'ids': [['id1', 'id2']], 'distances': [[1.1319812536239624, 1.1455862522125244]], 'metadatas': [[{'source': 'my_source'}, {'source': 'my_source'}]], 'embeddings': None, 'documents': [['白日依山尽，黄河入海流', '白云依山起，青天与白云齐']], 'uris': None, 'data': None}\n"
     ]
    }
   ],
   "source": [
    "results = collection.query(\n",
    "    query_texts=[\"高山\"],\n",
    "    n_results=2\n",
    ")\n",
    "print(results) "
   ]
  },
  {
   "cell_type": "code",
   "execution_count": null,
   "metadata": {},
   "outputs": [],
   "source": []
  }
 ],
 "metadata": {
  "kernelspec": {
   "display_name": "bigmodel",
   "language": "python",
   "name": "python3"
  },
  "language_info": {
   "codemirror_mode": {
    "name": "ipython",
    "version": 3
   },
   "file_extension": ".py",
   "mimetype": "text/x-python",
   "name": "python",
   "nbconvert_exporter": "python",
   "pygments_lexer": "ipython3",
   "version": "3.11.8"
  }
 },
 "nbformat": 4,
 "nbformat_minor": 2
}
