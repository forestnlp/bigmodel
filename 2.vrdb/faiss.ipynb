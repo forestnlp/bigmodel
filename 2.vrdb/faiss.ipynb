{
 "cells": [
  {
   "cell_type": "markdown",
   "metadata": {},
   "source": [
    "# 演示使用向量数据库来检索。"
   ]
  },
  {
   "cell_type": "markdown",
   "metadata": {},
   "source": [
    "https://www.xinpianchang.com/a12814093\n",
    "\n",
    "\n",
    "https://haokan.baidu.com/v?pd=wisenatural&vid=5577726715250023515\n",
    "\n",
    "https://cloud.tencent.com/developer/article/2328915"
   ]
  },
  {
   "cell_type": "markdown",
   "metadata": {},
   "source": [
    "## 1.常用的向量数据库 faiss"
   ]
  },
  {
   "cell_type": "markdown",
   "metadata": {},
   "source": [
    "### 1.1 生成测试数据集"
   ]
  },
  {
   "cell_type": "code",
   "execution_count": 2,
   "metadata": {},
   "outputs": [],
   "source": [
    "import os\n",
    "import socket\n",
    "import socks\n",
    "\n",
    "socks.set_default_proxy(socks.SOCKS5, \"127.0.0.1\", 10808)\n",
    "socket.socket = socks.socksocket"
   ]
  },
  {
   "cell_type": "code",
   "execution_count": 5,
   "metadata": {},
   "outputs": [
    {
     "name": "stdout",
     "output_type": "stream",
     "text": [
      "\n",
      "\n",
      "1. \"超值特惠！华为P40 Pro 5G全网通手机，拍照更出色！\"\n",
      "2. \"限时抢购！小米10 Pro 5G旗舰手机，性能强劲，价格更低！\"\n",
      "3. \"升级换代！苹果MacBook Pro 16英寸笔记本电脑，轻薄便携，性能更强！\"\n",
      "4. \"新品上市！华硕ROG游戏手机3，全新升级，让你畅玩游戏！\"\n",
      "5. \"大容量存储！西部数据4TB移动硬盘，高速传输，轻松备份数据！\"\n",
      "6. \"限量发售！索尼WH-1000XM4无线降噪耳机，带来沉浸式音乐体验！\"\n",
      "7. \"超值套装！小米电视4A 65英寸+小米盒子S，享受家庭影院乐趣！\"\n",
      "8. \"限时特惠！华为平板M6 10.8英寸，轻薄便携，性能出众！\"\n",
      "9. \"新品推荐！联想小新Pro 13.3英寸笔记本电脑，轻薄便携，性能升级！\"\n",
      "10. \"限时抢购！Apple Watch SE智能手表，多项功能，更便捷生活！\"\n",
      "11. \"超值组合！华硕ROG游戏台式电脑+曲面显示器，畅玩游戏无压力！\"\n",
      "12. \"限量发售！小米路由器AX3600，Wi-Fi6技术，更稳定的网络连接！\"\n",
      "13. \"新品上市！华为MatePad Pro平板电脑，10.8英寸全面屏，轻松办公学习！\"\n",
      "14. \"限时特惠！罗技G502 HERO游戏鼠标，高精度传感器，助你获胜！\"\n",
      "15. \"超值套装！华硕灵耀X2 14英寸笔记本电脑+无线鼠标，轻松办公！\"\n",
      "16. \"限时抢购！小米电视5 Pro 75英寸，8K超高清画质，带来震撼视觉体验！\"\n",
      "17. \"升级换代！苹果iPhone 12 Pro Max，5G网络，拍照更出色！\"\n",
      "18. \"新品推荐！华为MateBook X Pro 2020款，全新升级，轻薄便携！\"\n",
      "19. \"限时特惠！索尼PS5游戏机，强大性能，畅玩游戏新体验！\"\n",
      "20. \"超值组合！小米笔记本Pro 15.6英寸+小米无线鼠标，高效办公！\"\n",
      "21. \"限量发售！联想拯救者Y9000X 15.6英寸游戏笔记本，性能强悍，畅玩游戏！\"\n",
      "22. \"新品上市！华硕ZenFone 7 Pro 5G手机，旋转相机，拍照更灵活！\"\n",
      "23. \"限时抢购！小米路由器AX1800，Wi-Fi6技术，更稳定的网络连接！\"\n",
      "24. \"超值套装！华为平板M5 8.4英寸+蓝牙键盘，轻松办公学习！\"\n",
      "25. \"限时特惠！罗技G915无线机械键盘，低延迟，提升游戏体验！\"\n",
      "26. \"升级换代！苹果MacBook Air 13.3英寸笔记本电脑，轻薄便携，性能更强！\"\n",
      "27. \"新品推荐！华硕ZenBook 14 UM425IA笔记本电脑，轻薄便携，性能出众！\"\n",
      "28. \"限时抢购！小米电视4S 55英寸，4K超高清画质，带来震撼视觉体验！\"\n",
      "29. \"超值组合！华为MateBook 13 2020款+无线鼠标，高效办公！\"\n",
      "30. \"限量发售！索尼WH-1000XM3无线降噪耳机，带来沉浸式音乐体验！\"\n",
      "31. \"新品上市！华硕ROG Strix G15 15.6英寸游戏笔记本，性能强悍，畅玩游戏！\"\n",
      "32. \"限时特惠！小米CC9 Pro手机，五摄像头，拍照更出色！\"\n",
      "33. \"超值套装！华为平板M3 8.4英寸+蓝牙键盘，轻松办公学习！\"\n",
      "34. \"限时抢购！罗技G432游戏耳机，7.1环绕声，带来沉浸式游戏体验！\"\n",
      "35. \"升级换代！苹果iPad Pro 11英寸，全新升级，轻松办公学习！\"\n",
      "36. \"新品推荐！华硕VivoBook 14 S433笔记本电脑，轻薄便携，性能出众！\"\n",
      "37. \"限时抢购！小米电视4A 43英寸，4K超高清画质，带来震撼视觉体验！\"\n",
      "38. \"超值组合！华为MateBook X 2020款+无线鼠标，高效办公！\"\n",
      "39. \"限量发售！索尼WH-1000XM2无线降噪耳机，带来沉浸式音乐体验！\"\n",
      "40. \"新品上市！华硕ZenFone 6 5G手机，弹出式旋转相机，拍照更灵活！\"\n",
      "41. \"限时特惠！小米路由器AX3600 Pro，Wi-Fi6技术，更稳定的网络连接！\"\n",
      "42. \"超值套装！华为平板M6 8.4英寸+蓝牙键盘，轻松办公学习！\"\n",
      "43. \"限时抢购！罗技G502 LIGHTSPEED无线游戏鼠标，低延迟，助你获胜！\"\n",
      "44. \"升级换代！苹果iPhone 12，5G网络，拍照更出色！\"\n",
      "45. \"新品推荐！华硕TUF Gaming A17 17.3英寸游戏笔记本，性能强悍，畅玩游戏！\"\n",
      "46. \"限时抢购！小米电视5 65英寸，8K超高清画质，带来震撼视觉体验！\"\n",
      "47. \"超值组合！华为MateBook 14 2020款+无线鼠标，高效办公！\"\n",
      "48. \"限量发售！索尼WH-H910N无线降噪耳机，高保真音质，带来沉浸式音乐体验！\"\n",
      "49. \"新品上市！华硕ZenBook Pro Duo 15.6英寸双屏笔记本，创意设计，提升工作效率！\"\n",
      "50. \"限时特惠！小米电视4X 55英寸，4K超高清画质，带来震撼视觉体验！\"\n"
     ]
    }
   ],
   "source": [
    "from openai import OpenAI\n",
    "\n",
    "client = OpenAI()\n",
    "\n",
    "def generate_data_by_prompt(prompt):\n",
    "    data = client.completions.create(\n",
    "        model=\"gpt-3.5-turbo-instruct\",\n",
    "        prompt=prompt,\n",
    "        max_tokens=2048,\n",
    "        temperature=0.5,\n",
    "        top_p = 1\n",
    "    )\n",
    "    return data.choices[0].text\n",
    "\n",
    "prompt = \"\"\"请你生成50条淘宝网里的商品的标题，每条在30个字左右，品类是3C数码产品，标题里往往也会有一些促销类的信息，每行一条。\"\"\"\n",
    "data = generate_data_by_prompt(prompt)\n",
    "print(data)"
   ]
  },
  {
   "cell_type": "code",
   "execution_count": 6,
   "metadata": {},
   "outputs": [
    {
     "data": {
      "text/html": [
       "<div>\n",
       "<style scoped>\n",
       "    .dataframe tbody tr th:only-of-type {\n",
       "        vertical-align: middle;\n",
       "    }\n",
       "\n",
       "    .dataframe tbody tr th {\n",
       "        vertical-align: top;\n",
       "    }\n",
       "\n",
       "    .dataframe thead th {\n",
       "        text-align: right;\n",
       "    }\n",
       "</style>\n",
       "<table border=\"1\" class=\"dataframe\">\n",
       "  <thead>\n",
       "    <tr style=\"text-align: right;\">\n",
       "      <th></th>\n",
       "      <th>product_name</th>\n",
       "    </tr>\n",
       "  </thead>\n",
       "  <tbody>\n",
       "    <tr>\n",
       "      <th>0</th>\n",
       "      <td>1. \"超值特惠！华为P40 Pro 5G全网通手机，拍照更出色！\"</td>\n",
       "    </tr>\n",
       "    <tr>\n",
       "      <th>1</th>\n",
       "      <td>2. \"限时抢购！小米10 Pro 5G旗舰手机，性能强劲，价格更低！\"</td>\n",
       "    </tr>\n",
       "    <tr>\n",
       "      <th>2</th>\n",
       "      <td>3. \"升级换代！苹果MacBook Pro 16英寸笔记本电脑，轻薄便携，性能更强！\"</td>\n",
       "    </tr>\n",
       "    <tr>\n",
       "      <th>3</th>\n",
       "      <td>4. \"新品上市！华硕ROG游戏手机3，全新升级，让你畅玩游戏！\"</td>\n",
       "    </tr>\n",
       "    <tr>\n",
       "      <th>4</th>\n",
       "      <td>5. \"大容量存储！西部数据4TB移动硬盘，高速传输，轻松备份数据！\"</td>\n",
       "    </tr>\n",
       "  </tbody>\n",
       "</table>\n",
       "</div>"
      ],
      "text/plain": [
       "                                   product_name\n",
       "0            1. \"超值特惠！华为P40 Pro 5G全网通手机，拍照更出色！\"\n",
       "1          2. \"限时抢购！小米10 Pro 5G旗舰手机，性能强劲，价格更低！\"\n",
       "2  3. \"升级换代！苹果MacBook Pro 16英寸笔记本电脑，轻薄便携，性能更强！\"\n",
       "3             4. \"新品上市！华硕ROG游戏手机3，全新升级，让你畅玩游戏！\"\n",
       "4           5. \"大容量存储！西部数据4TB移动硬盘，高速传输，轻松备份数据！\""
      ]
     },
     "execution_count": 6,
     "metadata": {},
     "output_type": "execute_result"
    }
   ],
   "source": [
    "import pandas as pd\n",
    "\n",
    "product_names = data.strip().split('\\n')\n",
    "df = pd.DataFrame({'product_name': product_names})\n",
    "df.head()"
   ]
  },
  {
   "cell_type": "code",
   "execution_count": 7,
   "metadata": {},
   "outputs": [
    {
     "data": {
      "text/html": [
       "<div>\n",
       "<style scoped>\n",
       "    .dataframe tbody tr th:only-of-type {\n",
       "        vertical-align: middle;\n",
       "    }\n",
       "\n",
       "    .dataframe tbody tr th {\n",
       "        vertical-align: top;\n",
       "    }\n",
       "\n",
       "    .dataframe thead th {\n",
       "        text-align: right;\n",
       "    }\n",
       "</style>\n",
       "<table border=\"1\" class=\"dataframe\">\n",
       "  <thead>\n",
       "    <tr style=\"text-align: right;\">\n",
       "      <th></th>\n",
       "      <th>product_name</th>\n",
       "    </tr>\n",
       "  </thead>\n",
       "  <tbody>\n",
       "    <tr>\n",
       "      <th>0</th>\n",
       "      <td>\"超值特惠！华为P40 Pro 5G全网通手机，拍照更出色！\"</td>\n",
       "    </tr>\n",
       "    <tr>\n",
       "      <th>1</th>\n",
       "      <td>\"限时抢购！小米10 Pro 5G旗舰手机，性能强劲，价格更低！\"</td>\n",
       "    </tr>\n",
       "    <tr>\n",
       "      <th>2</th>\n",
       "      <td>\"升级换代！苹果MacBook Pro 16英寸笔记本电脑，轻薄便携，性能更强！\"</td>\n",
       "    </tr>\n",
       "    <tr>\n",
       "      <th>3</th>\n",
       "      <td>\"新品上市！华硕ROG游戏手机3，全新升级，让你畅玩游戏！\"</td>\n",
       "    </tr>\n",
       "    <tr>\n",
       "      <th>4</th>\n",
       "      <td>\"大容量存储！西部数据4TB移动硬盘，高速传输，轻松备份数据！\"</td>\n",
       "    </tr>\n",
       "  </tbody>\n",
       "</table>\n",
       "</div>"
      ],
      "text/plain": [
       "                                product_name\n",
       "0            \"超值特惠！华为P40 Pro 5G全网通手机，拍照更出色！\"\n",
       "1          \"限时抢购！小米10 Pro 5G旗舰手机，性能强劲，价格更低！\"\n",
       "2  \"升级换代！苹果MacBook Pro 16英寸笔记本电脑，轻薄便携，性能更强！\"\n",
       "3             \"新品上市！华硕ROG游戏手机3，全新升级，让你畅玩游戏！\"\n",
       "4           \"大容量存储！西部数据4TB移动硬盘，高速传输，轻松备份数据！\""
      ]
     },
     "execution_count": 7,
     "metadata": {},
     "output_type": "execute_result"
    }
   ],
   "source": [
    "# 去掉序号\n",
    "df.product_name = df.product_name.apply(lambda x: x.split('.')[1].strip())\n",
    "df.head()"
   ]
  },
  {
   "cell_type": "code",
   "execution_count": 8,
   "metadata": {},
   "outputs": [
    {
     "data": {
      "text/html": [
       "<div>\n",
       "<style scoped>\n",
       "    .dataframe tbody tr th:only-of-type {\n",
       "        vertical-align: middle;\n",
       "    }\n",
       "\n",
       "    .dataframe tbody tr th {\n",
       "        vertical-align: top;\n",
       "    }\n",
       "\n",
       "    .dataframe thead th {\n",
       "        text-align: right;\n",
       "    }\n",
       "</style>\n",
       "<table border=\"1\" class=\"dataframe\">\n",
       "  <thead>\n",
       "    <tr style=\"text-align: right;\">\n",
       "      <th></th>\n",
       "      <th>product_name</th>\n",
       "    </tr>\n",
       "  </thead>\n",
       "  <tbody>\n",
       "    <tr>\n",
       "      <th>0</th>\n",
       "      <td>夏日清凉必备！时尚女士短裙，轻松驾驭夏日时尚</td>\n",
       "    </tr>\n",
       "    <tr>\n",
       "      <th>1</th>\n",
       "      <td>限时特惠！百搭女士T恤，清凉一夏必备单品</td>\n",
       "    </tr>\n",
       "    <tr>\n",
       "      <th>2</th>\n",
       "      <td>轻松出游必备！时尚女士背带裤，舒适又百搭</td>\n",
       "    </tr>\n",
       "    <tr>\n",
       "      <th>3</th>\n",
       "      <td>夏日必备！清凉女士连衣裙，优雅迷人的夏日风情</td>\n",
       "    </tr>\n",
       "    <tr>\n",
       "      <th>4</th>\n",
       "      <td>限时抢购！高颜值女士手提包，轻松搭配时尚造型</td>\n",
       "    </tr>\n",
       "  </tbody>\n",
       "</table>\n",
       "</div>"
      ],
      "text/plain": [
       "             product_name\n",
       "0  夏日清凉必备！时尚女士短裙，轻松驾驭夏日时尚\n",
       "1    限时特惠！百搭女士T恤，清凉一夏必备单品\n",
       "2    轻松出游必备！时尚女士背带裤，舒适又百搭\n",
       "3  夏日必备！清凉女士连衣裙，优雅迷人的夏日风情\n",
       "4  限时抢购！高颜值女士手提包，轻松搭配时尚造型"
      ]
     },
     "execution_count": 8,
     "metadata": {},
     "output_type": "execute_result"
    }
   ],
   "source": [
    "# 如法炮制，再生成一些女装的商品名称，覆盖不同的品类，这样后面我们演示搜索效果的时候就会方便一点。\n",
    "clothes_prompt = \"\"\"请你生成50条淘宝网里的商品的标题，每条在30个字左右，品类是女性的服饰箱包等等，标题里往往也会有一些促销类的信息，每行一条。\"\"\"\n",
    "clothes_data = generate_data_by_prompt(clothes_prompt)\n",
    "clothes_product_names = clothes_data.strip().split('\\n')\n",
    "clothes_df = pd.DataFrame({'product_name': clothes_product_names})\n",
    "clothes_df.product_name = clothes_df.product_name.apply(lambda x: x.split('.')[1].strip())\n",
    "clothes_df.head()"
   ]
  },
  {
   "cell_type": "code",
   "execution_count": 9,
   "metadata": {},
   "outputs": [
    {
     "data": {
      "text/html": [
       "<div>\n",
       "<style scoped>\n",
       "    .dataframe tbody tr th:only-of-type {\n",
       "        vertical-align: middle;\n",
       "    }\n",
       "\n",
       "    .dataframe tbody tr th {\n",
       "        vertical-align: top;\n",
       "    }\n",
       "\n",
       "    .dataframe thead th {\n",
       "        text-align: right;\n",
       "    }\n",
       "</style>\n",
       "<table border=\"1\" class=\"dataframe\">\n",
       "  <thead>\n",
       "    <tr style=\"text-align: right;\">\n",
       "      <th></th>\n",
       "      <th>product_name</th>\n",
       "    </tr>\n",
       "  </thead>\n",
       "  <tbody>\n",
       "    <tr>\n",
       "      <th>0</th>\n",
       "      <td>\"超值特惠！华为P40 Pro 5G全网通手机，拍照更出色！\"</td>\n",
       "    </tr>\n",
       "    <tr>\n",
       "      <th>1</th>\n",
       "      <td>\"限时抢购！小米10 Pro 5G旗舰手机，性能强劲，价格更低！\"</td>\n",
       "    </tr>\n",
       "    <tr>\n",
       "      <th>2</th>\n",
       "      <td>\"升级换代！苹果MacBook Pro 16英寸笔记本电脑，轻薄便携，性能更强！\"</td>\n",
       "    </tr>\n",
       "    <tr>\n",
       "      <th>3</th>\n",
       "      <td>\"新品上市！华硕ROG游戏手机3，全新升级，让你畅玩游戏！\"</td>\n",
       "    </tr>\n",
       "    <tr>\n",
       "      <th>4</th>\n",
       "      <td>\"大容量存储！西部数据4TB移动硬盘，高速传输，轻松备份数据！\"</td>\n",
       "    </tr>\n",
       "    <tr>\n",
       "      <th>...</th>\n",
       "      <td>...</td>\n",
       "    </tr>\n",
       "    <tr>\n",
       "      <th>95</th>\n",
       "      <td>夏日出街必备！时尚女士短裙，清凉又百搭的时尚装备</td>\n",
       "    </tr>\n",
       "    <tr>\n",
       "      <th>96</th>\n",
       "      <td>限时抢购！百搭女士休闲裤，舒适又时尚的夏日装备</td>\n",
       "    </tr>\n",
       "    <tr>\n",
       "      <th>97</th>\n",
       "      <td>惊喜促销！高颜值女士手提包，轻松搭配时尚造型</td>\n",
       "    </tr>\n",
       "    <tr>\n",
       "      <th>98</th>\n",
       "      <td>夏日度假必备！时尚女士防晒帽，时尚轻松穿出清凉感</td>\n",
       "    </tr>\n",
       "    <tr>\n",
       "      <th>99</th>\n",
       "      <td>限时特惠！高质感女士针织衫，舒适又时尚的夏日选择</td>\n",
       "    </tr>\n",
       "  </tbody>\n",
       "</table>\n",
       "<p>100 rows × 1 columns</p>\n",
       "</div>"
      ],
      "text/plain": [
       "                                 product_name\n",
       "0             \"超值特惠！华为P40 Pro 5G全网通手机，拍照更出色！\"\n",
       "1           \"限时抢购！小米10 Pro 5G旗舰手机，性能强劲，价格更低！\"\n",
       "2   \"升级换代！苹果MacBook Pro 16英寸笔记本电脑，轻薄便携，性能更强！\"\n",
       "3              \"新品上市！华硕ROG游戏手机3，全新升级，让你畅玩游戏！\"\n",
       "4            \"大容量存储！西部数据4TB移动硬盘，高速传输，轻松备份数据！\"\n",
       "..                                        ...\n",
       "95                   夏日出街必备！时尚女士短裙，清凉又百搭的时尚装备\n",
       "96                    限时抢购！百搭女士休闲裤，舒适又时尚的夏日装备\n",
       "97                     惊喜促销！高颜值女士手提包，轻松搭配时尚造型\n",
       "98                   夏日度假必备！时尚女士防晒帽，时尚轻松穿出清凉感\n",
       "99                   限时特惠！高质感女士针织衫，舒适又时尚的夏日选择\n",
       "\n",
       "[100 rows x 1 columns]"
      ]
     },
     "metadata": {},
     "output_type": "display_data"
    }
   ],
   "source": [
    "df = pd.concat([df, clothes_df], axis=0)\n",
    "df = df.reset_index(drop=True)\n",
    "display(df)"
   ]
  },
  {
   "cell_type": "markdown",
   "metadata": {},
   "source": [
    "### 1.2 将数据转换为embedding后进行存储"
   ]
  },
  {
   "cell_type": "code",
   "execution_count": null,
   "metadata": {},
   "outputs": [],
   "source": []
  },
  {
   "cell_type": "markdown",
   "metadata": {},
   "source": [
    "### 1.3 进行向量搜索"
   ]
  },
  {
   "cell_type": "code",
   "execution_count": null,
   "metadata": {},
   "outputs": [],
   "source": []
  }
 ],
 "metadata": {
  "kernelspec": {
   "display_name": "bigmodel",
   "language": "python",
   "name": "python3"
  },
  "language_info": {
   "codemirror_mode": {
    "name": "ipython",
    "version": 3
   },
   "file_extension": ".py",
   "mimetype": "text/x-python",
   "name": "python",
   "nbconvert_exporter": "python",
   "pygments_lexer": "ipython3",
   "version": "3.11.8"
  }
 },
 "nbformat": 4,
 "nbformat_minor": 2
}
