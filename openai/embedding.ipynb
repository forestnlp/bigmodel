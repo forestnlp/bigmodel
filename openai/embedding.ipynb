{
 "cells": [
  {
   "cell_type": "markdown",
   "metadata": {},
   "source": [
    "# 演示如何接入openai。"
   ]
  },
  {
   "cell_type": "markdown",
   "metadata": {},
   "source": [
    "## 1.前提准备"
   ]
  },
  {
   "cell_type": "markdown",
   "metadata": {},
   "source": [
    "### 1.1 使用代理访问openai"
   ]
  },
  {
   "cell_type": "code",
   "execution_count": 2,
   "metadata": {},
   "outputs": [],
   "source": [
    "import os\n",
    "import socket\n",
    "import socks\n",
    "\n",
    "socks.set_default_proxy(socks.SOCKS5, \"127.0.0.1\", 10808)\n",
    "socket.socket = socks.socksocket"
   ]
  },
  {
   "cell_type": "code",
   "execution_count": 1,
   "metadata": {},
   "outputs": [],
   "source": [
    "#安装所需的包\n",
    "#!pip install tiktoken openai pandas matplotlib plotly scikit-learn numpy"
   ]
  },
  {
   "cell_type": "markdown",
   "metadata": {},
   "source": [
    "## 2.使用embedding"
   ]
  },
  {
   "cell_type": "code",
   "execution_count": null,
   "metadata": {},
   "outputs": [],
   "source": [
    "## 使用openai的embedding功能，将文本转换为向量表示。\n",
    "import openai\n",
    "import tiktoken\n",
    "import pandas as pd\n",
    "import matplotlib.pyplot as plt\n",
    "import plotly.express as px\n",
    "from sklearn.decomposition import PCA\n",
    "import numpy as np\n",
    "\n",
    "openai.api_key = \"YOUR_API_KEY\"  # 替换为你的OpenAI API密钥\n",
    "\n",
    "def get_embedding(text):\n",
    "    response = openai.Embedding.create(\n",
    "        input=[text],\n",
    "        model=\"text-davinci-002\"\n",
    "        )\n",
    "    return response['data'][0]['embedding']\n",
    "\n",
    "def get_encoding(text):\n",
    "    encoding = tiktoken.encoding_for_model('text-davinci-002')\n",
    "    return encoding.encode(text)\n",
    "\n",
    "def get_num_tokens(text):\n",
    "    encoding = tiktoken.encoding_for_model('text-davinci-002')\n",
    "    return len(encoding.encode(text))\n",
    "\n",
    "def get_similarity(text1, text2):\n",
    "    embedding1 = get_embedding(text1)\n",
    "    embedding2 = get_embedding(text2)\n",
    "\n",
    "    similarity = np.dot(embedding1, embedding2) / (np.linalg.norm(embedding1) * np.linalg.norm(embedding2))\n",
    "    return similarity\n",
    "\n",
    "# 示例文本\n"
   ]
  }
 ],
 "metadata": {
  "kernelspec": {
   "display_name": "bigmodel",
   "language": "python",
   "name": "python3"
  },
  "language_info": {
   "codemirror_mode": {
    "name": "ipython",
    "version": 3
   },
   "file_extension": ".py",
   "mimetype": "text/x-python",
   "name": "python",
   "nbconvert_exporter": "python",
   "pygments_lexer": "ipython3",
   "version": "3.11.8"
  }
 },
 "nbformat": 4,
 "nbformat_minor": 2
}
