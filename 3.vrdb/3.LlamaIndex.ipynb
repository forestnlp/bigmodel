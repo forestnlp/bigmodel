{
 "cells": [
  {
   "cell_type": "markdown",
   "metadata": {},
   "source": [
    "# 演示使用向量数据库 LlamaIndex 来检索。"
   ]
  },
  {
   "cell_type": "markdown",
   "metadata": {},
   "source": [
    "先通过搜索的方式，找到和询问的问题最相关的语料。这个搜索过程中，也可以用 Embedding 的相似度进行语义搜索的技术。\n",
    "然后，我们将和问题语义最接近的前几条内容，作为提示语的一部分给到 AI。然后请 AI 参考这些内容，再来回答这个问题。"
   ]
  },
  {
   "cell_type": "code",
   "execution_count": 1,
   "metadata": {},
   "outputs": [],
   "source": [
    "import os\n",
    "import socket\n",
    "import socks\n",
    "\n",
    "socks.set_default_proxy(socks.SOCKS5, \"127.0.0.1\", 10808)\n",
    "socket.socket = socks.socksocket"
   ]
  },
  {
   "cell_type": "code",
   "execution_count": 2,
   "metadata": {},
   "outputs": [],
   "source": [
    "# pip install llama-index"
   ]
  },
  {
   "cell_type": "code",
   "execution_count": null,
   "metadata": {},
   "outputs": [],
   "source": [
    "from llama_index import LlamaIndex\n",
    "\n",
    "# 创建 LlamaIndex 对象\n",
    "index = LlamaIndex()\n",
    "\n",
    "# 添加文档到索引\n",
    "index.add_document(\"document1\", \"This is the content of document 1. It contains some important information.\")\n",
    "index.add_document(\"document2\", \"Document 2 is another example document with some different content.\")\n",
    "index.add_document(\"document3\", \"The third document contains unique information that might be useful.\")\n",
    "\n",
    "# 执行搜索\n",
    "query = \"important information\"\n",
    "results = index.search(query)\n",
    "\n",
    "# 输出搜索结果\n",
    "print(\"Search results for query: '{}'\".format(query))\n",
    "for result in results:\n",
    "    print(\"Document: {}, Score: {}\".format(result[0], result[1]))\n"
   ]
  }
 ],
 "metadata": {
  "kernelspec": {
   "display_name": "bigmodel",
   "language": "python",
   "name": "python3"
  },
  "language_info": {
   "codemirror_mode": {
    "name": "ipython",
    "version": 3
   },
   "file_extension": ".py",
   "mimetype": "text/x-python",
   "name": "python",
   "nbconvert_exporter": "python",
   "pygments_lexer": "ipython3",
   "version": "3.11.8"
  }
 },
 "nbformat": 4,
 "nbformat_minor": 2
}
