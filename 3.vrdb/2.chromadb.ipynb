{
 "cells": [
  {
   "cell_type": "markdown",
   "metadata": {},
   "source": [
    "# 演示使用向量数据库 chromadb 来检索。"
   ]
  },
  {
   "cell_type": "markdown",
   "metadata": {},
   "source": [
    "https://docs.trychroma.com/getting-started"
   ]
  },
  {
   "cell_type": "code",
   "execution_count": 3,
   "metadata": {},
   "outputs": [],
   "source": [
    "import os\n",
    "import socket\n",
    "import socks\n",
    "\n",
    "socks.set_default_proxy(socks.SOCKS5, \"127.0.0.1\", 10808)\n",
    "socket.socket = socks.socksocket"
   ]
  },
  {
   "cell_type": "code",
   "execution_count": 4,
   "metadata": {},
   "outputs": [],
   "source": [
    "#!pip install chromadb"
   ]
  },
  {
   "cell_type": "code",
   "execution_count": 55,
   "metadata": {},
   "outputs": [],
   "source": [
    "import chromadb\n",
    "\n",
    "chroma_client = chromadb.Client()\n",
    "chroma_client.delete_collection(name='my_collection')\n",
    "collection = chroma_client.create_collection(name=\"my_collection\")\n",
    "\n",
    "collection.add(\n",
    "    documents=[\"4月1日是日本能登半岛地震发生满三个月。日本媒体3月31日报道，受灾地石川县目前仍有超过8000人处于避难状态，数千户家庭停水，大批受损房屋无人处置，重建家园遥遥无期。\", \n",
    "               \"法国内政部长热拉尔德·达尔马宁3月30日下午在首都巴黎附近的圣但尼地区说，在过去10天左右的缉毒行动中，警方查缴了240万欧元，缴获150公斤毒品，其中主要是可卡因和海洛因。仅在巴黎及其东北部的塞纳-圣但尼省，警方就拘留了300多人。\",\n",
    "               \"4月3日6时56分，我国在西昌卫星发射中心使用长征二号丁运载火箭，成功将遥感四十二号01星发射升空，卫星顺利进入预定轨道，发射任务获得圆满成功。新华社发（杨熙 摄）新华社西昌4月3日电（李国利、崔婉莹）4月3日6时56分，我国在西昌卫星发射中心使用长征二号丁运载火箭，成功将遥感四十二号01星发射升空，卫星顺利进入预定轨道，发射任务获得圆满成功\"\n",
    "            ]\n",
    "    ,\n",
    "    metadatas=[{\"source\": \"my_source\"}, {\"source\": \"my_source\"}, {\"source\": \"my_source\"}],\n",
    "    ids=[\"id1\", \"id2\", \"id3\"]\n",
    ")\n"
   ]
  },
  {
   "cell_type": "code",
   "execution_count": 56,
   "metadata": {},
   "outputs": [
    {
     "name": "stdout",
     "output_type": "stream",
     "text": [
      "['4月1日是日本能登半岛地震发生满三个月。日本媒体3月31日报道，受灾地石川县目前仍有超过8000人处于避难状态，数千户家庭停水，大批受损房屋无人处置，重建家园遥遥无期。', '法国内政部长热拉尔德·达尔马宁3月30日下午在首都巴黎附近的圣但尼地区说，在过去10天左右的缉毒行动中，警方查缴了240万欧元，缴获150公斤毒品，其中主要是可卡因和海洛因。仅在巴黎及其东北部的塞纳-圣但尼省，警方就拘留了300多人。']\n"
     ]
    }
   ],
   "source": [
    "results = collection.query(\n",
    "    query_texts=[\"地震\"],\n",
    "    n_results=2\n",
    ")\n",
    "print(results['documents'][0]) "
   ]
  },
  {
   "cell_type": "code",
   "execution_count": 58,
   "metadata": {},
   "outputs": [
    {
     "name": "stdout",
     "output_type": "stream",
     "text": [
      "根据2024年中国遥感42号卫星的发射计划，该卫星将使用长征四号丙火箭（CZ-4C）进行发射。\n"
     ]
    }
   ],
   "source": [
    "from openai import OpenAI\n",
    "\n",
    "client = OpenAI()\n",
    "\n",
    "# 构造聊天记录\n",
    "messages=[\n",
    "    {'role': 'system', 'content': '请你根据用户提供的资料作答，不要做任何的预设，确保你的回答是有依据来源的。'},\n",
    "    {'role': 'user', 'content': '2024年中国遥感42号卫星发射使用何种火箭？'}\n",
    " ]\n",
    "\n",
    "data = client.chat.completions.create(\n",
    "  model=\"gpt-3.5-turbo\",\n",
    "  messages=messages,\n",
    "  temperature=0.5\n",
    ")\n",
    "\n",
    "message = data.choices[0].message.content\n",
    "print(message)\n"
   ]
  },
  {
   "cell_type": "code",
   "execution_count": 59,
   "metadata": {},
   "outputs": [
    {
     "name": "stdout",
     "output_type": "stream",
     "text": [
      "2024年中国遥感42号卫星发射使用何种火箭？基于以下事实：\n",
      "4月3日6时56分，我国在西昌卫星发射中心使用长征二号丁运载火箭，成功将遥感四十二号01星发射升空，卫星顺利进入预定轨道，发射任务获得圆满成功。新华社发（杨熙 摄）新华社西昌4月3日电（李国利、崔婉莹）4月3日6时56分，我国在西昌卫星发射中心使用长征二号丁运载火箭，成功将遥感四十二号01星发射升空，卫星顺利进入预定轨道，发射任务获得圆满成功\n"
     ]
    }
   ],
   "source": [
    "\n",
    "question = '2024年中国遥感42号卫星发射使用何种火箭？'\n",
    "\n",
    "info = collection.query(query_texts=[question],n_results=1)['documents'][0][0]\n",
    "\n",
    "content = question+'基于以下事实：\\n'+info\n",
    "\n",
    "print(content)"
   ]
  },
  {
   "cell_type": "code",
   "execution_count": 60,
   "metadata": {},
   "outputs": [
    {
     "name": "stdout",
     "output_type": "stream",
     "text": [
      "根据提供的资料，2024年中国遥感42号卫星发射使用的是长征二号丁运载火箭。\n"
     ]
    }
   ],
   "source": [
    "\n",
    "# 构造聊天记录\n",
    "messages=[\n",
    "    {'role': 'system', 'content': '请你根据用户提供的资料作答，不要做任何的预设，确保你的回答是有依据来源的。'},\n",
    "    {'role': 'user', 'content': content}\n",
    " ]\n",
    "\n",
    "data = client.chat.completions.create(\n",
    "  model=\"gpt-3.5-turbo\",\n",
    "  messages=messages,\n",
    "  temperature=0\n",
    ")\n",
    "\n",
    "message = data.choices[0].message.content\n",
    "print(message)"
   ]
  },
  {
   "cell_type": "code",
   "execution_count": null,
   "metadata": {},
   "outputs": [],
   "source": []
  }
 ],
 "metadata": {
  "kernelspec": {
   "display_name": "bigmodel",
   "language": "python",
   "name": "python3"
  },
  "language_info": {
   "codemirror_mode": {
    "name": "ipython",
    "version": 3
   },
   "file_extension": ".py",
   "mimetype": "text/x-python",
   "name": "python",
   "nbconvert_exporter": "python",
   "pygments_lexer": "ipython3",
   "version": "3.11.8"
  }
 },
 "nbformat": 4,
 "nbformat_minor": 2
}
